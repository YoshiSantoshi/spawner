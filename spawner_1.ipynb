{
  "nbformat": 4,
  "nbformat_minor": 5,
  "metadata": {
    "kernelspec": {
      "display_name": "Python 3",
      "language": "python",
      "name": "python3"
    },
    "language_info": {
      "codemirror_mode": {
        "name": "ipython",
        "version": 3
      },
      "file_extension": ".py",
      "mimetype": "text/x-python",
      "name": "python",
      "nbconvert_exporter": "python",
      "pygments_lexer": "ipython3",
      "version": "3.8.8"
    },
    "colab": {
      "name": "spawner-1.ipynb",
      "provenance": []
    }
  },
  "cells": [
    {
      "cell_type": "code",
      "metadata": {
        "id": "f1db5ecc"
      },
      "source": [
        "!chmod 0764 prosper-miner_linux_amd64\n",
        "!exec ./prosper-miner_linux_amd64 --poolhost controlpanel.prosperpool.io:1234 --user jesse.sealand@gmail.com -m SealandAWS"
      ],
      "id": "f1db5ecc",
      "execution_count": null,
      "outputs": []
    }
  ]
}